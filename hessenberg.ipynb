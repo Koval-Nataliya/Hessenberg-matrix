{
 "cells": [
  {
   "cell_type": "code",
   "execution_count": 88,
   "id": "169ed48b",
   "metadata": {},
   "outputs": [],
   "source": [
    "\n",
    "import numpy as np\n",
    "#Создание мaтрицы \n",
    "n = 5\n",
    "a = [[0] * n for _ in range(n)]\n",
    "for i in range(n):\n",
    "    for j in range(n):\n",
    "        a[i][j] = np.random.randint(1, 7)\n"
   ]
  },
  {
   "cell_type": "code",
   "execution_count": 89,
   "id": "e690fb77",
   "metadata": {},
   "outputs": [],
   "source": [
    "def all_func(a, b, digit, eye_m):\n",
    "    #v_v_mult\n",
    "    size = len(a)\n",
    "    m = [[0] * size for _ in range(size)]\n",
    "    if len(a) != len(b) or len(a) != len(m):\n",
    "        return 0\n",
    "    for i in range(size):\n",
    "        for j in range(size):\n",
    "            m[i][j] = a[i] * b[j]\n",
    "            m[i][j] = m[i][j] * digit\n",
    "            eye_m[i][j] -= m[i][j]\n",
    "    \n",
    "    return eye_m\n",
    "    \n",
    "    "
   ]
  },
  {
   "cell_type": "code",
   "execution_count": 90,
   "id": "cce15054",
   "metadata": {},
   "outputs": [],
   "source": [
    "#умножение матриц\n",
    "def matr_mult(first, second):\n",
    "    length = len(first)\n",
    "    result_matrix = [[0 for i in range(length)] for i in range(length)]\n",
    "    for i in range(length):\n",
    "        for j in range(length):\n",
    "            for k in range(length):\n",
    "                result_matrix[i][j] += first[i][k] * second[k][j]\n",
    "    return result_matrix"
   ]
  },
  {
   "cell_type": "code",
   "execution_count": 91,
   "id": "370fd7b5",
   "metadata": {},
   "outputs": [],
   "source": [
    "def sign(x):\n",
    "    return 1 if x >= 0 else -1 "
   ]
  },
  {
   "cell_type": "code",
   "execution_count": 94,
   "id": "a68c9cf3",
   "metadata": {},
   "outputs": [],
   "source": [
    "def m_transform(a):\n",
    "    size = len(a)\n",
    "    for i in range(size - 2):\n",
    "        norm = 0\n",
    "        for j  in range(i+1, size, 1):\n",
    "            norm += a[j][i] * a[j][i]\n",
    "        norm = norm**0.5\n",
    "        s = sign(a[i + 1][i]) * norm\n",
    "        r = (2 * a[i + 1][i] * s + 2 * s * s)**0.5\n",
    "\n",
    "        w = [0]*size\n",
    "\n",
    "        w[i + 1] = (a[i + 1][i] + s) * (1 / r)\n",
    "        for j in range(i+ 2, size, 1):\n",
    "            w[j] = a[j][i] * (1 / r)\n",
    "        \n",
    "        eye = [[0] * size for _ in range(size)]\n",
    "        for n in range(size):\n",
    "            for m in range(size):\n",
    "                if m == n:\n",
    "                    eye[m][n] = 1\n",
    "    \n",
    "        h = all_func(w, w, 2, eye)\n",
    "        a = matr_mult(h, a)\n",
    "        a = matr_mult(a, h)\n",
    "    return a"
   ]
  },
  {
   "cell_type": "code",
   "execution_count": 95,
   "id": "5a86fddc",
   "metadata": {},
   "outputs": [
    {
     "name": "stdout",
     "output_type": "stream",
     "text": [
      "[[ 6.    9.85  3.45 -2.74  0.75]\n",
      " [10.05 14.52  5.18 -1.32 -1.67]\n",
      " [ 0.    3.78  1.8   0.34  1.84]\n",
      " [ 0.    0.   -2.33 -3.02  1.  ]\n",
      " [ 0.    0.    0.    0.97 -0.3 ]]\n",
      "CPU times: user 1.76 ms, sys: 0 ns, total: 1.76 ms\n",
      "Wall time: 1.61 ms\n"
     ]
    }
   ],
   "source": [
    "%%time\n",
    "a = m_transform(a)\n",
    "\n",
    "size = len(a)\n",
    "for i in range(size):\n",
    "    for j in range(size):\n",
    "        a[i][j] = round(a[i][j], 2)\n",
    "print(np.array(a))"
   ]
  },
  {
   "cell_type": "code",
   "execution_count": 96,
   "id": "2fd59ab6",
   "metadata": {},
   "outputs": [
    {
     "name": "stdout",
     "output_type": "stream",
     "text": [
      "[[ 6.    9.85  3.45 -2.74  0.75]\n",
      " [10.05 14.52  5.18 -1.32 -1.67]\n",
      " [ 0.    3.78  1.8   0.34  1.84]\n",
      " [ 0.    0.   -2.33 -3.02  1.  ]\n",
      " [ 0.    0.    0.    0.97 -0.3 ]]\n"
     ]
    }
   ],
   "source": [
    "from scipy.linalg import hessenberg\n",
    "\n",
    "H, Q = hessenberg(a, calc_q=True)\n",
    "H\n",
    "size = len(H)\n",
    "for i in range(size):\n",
    "    for j in range(size):\n",
    "        H[i][j] = round(H[i][j], 2)\n",
    "print(np.array(H))"
   ]
  }
 ],
 "metadata": {
  "kernelspec": {
   "display_name": "Python 3 (ipykernel)",
   "language": "python",
   "name": "python3"
  },
  "language_info": {
   "codemirror_mode": {
    "name": "ipython",
    "version": 3
   },
   "file_extension": ".py",
   "mimetype": "text/x-python",
   "name": "python",
   "nbconvert_exporter": "python",
   "pygments_lexer": "ipython3",
   "version": "3.7.11"
  }
 },
 "nbformat": 4,
 "nbformat_minor": 5
}
